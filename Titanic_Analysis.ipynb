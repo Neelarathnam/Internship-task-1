{
 "cells": [
  {
   "cell_type": "markdown",
   "id": "cef4d58f",
   "metadata": {},
   "source": [
    "# Titanic Dataset Analysis\n",
    "This notebook was generated from a CSV file."
   ]
  },
  {
   "cell_type": "code",
   "execution_count": null,
   "id": "6149a4cd",
   "metadata": {},
   "outputs": [],
   "source": [
    "import pandas as pd\n",
    "\n",
    "# Load the dataset\n",
    "df = pd.read_csv('Titanic-Dataset.csv')\n",
    "df.head()"
   ]
  },
  {
   "cell_type": "code",
   "execution_count": null,
   "id": "565b1781",
   "metadata": {},
   "outputs": [],
   "source": [
    "# Basic info about the dataset\n",
    "df.info()"
   ]
  },
  {
   "cell_type": "code",
   "execution_count": null,
   "id": "37dc1076",
   "metadata": {},
   "outputs": [],
   "source": [
    "# Summary statistics\n",
    "df.describe()"
   ]
  },
  {
   "cell_type": "code",
   "execution_count": null,
   "id": "559a2757",
   "metadata": {},
   "outputs": [],
   "source": [
    "# Check for missing values\n",
    "df.isnull().sum()"
   ]
  }
 ],
 "metadata": {},
 "nbformat": 4,
 "nbformat_minor": 5
}
